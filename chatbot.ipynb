{
  "nbformat": 4,
  "nbformat_minor": 0,
  "metadata": {
    "colab": {
      "provenance": []
    },
    "kernelspec": {
      "name": "python3",
      "display_name": "Python 3"
    },
    "language_info": {
      "name": "python"
    }
  },
  "cells": [
    {
      "cell_type": "code",
      "execution_count": null,
      "metadata": {
        "colab": {
          "base_uri": "https://localhost:8080/"
        },
        "id": "FpCWUII6AwAQ",
        "outputId": "36150c23-c5ee-4964-cc42-b88b14e79945"
      },
      "outputs": [
        {
          "output_type": "stream",
          "name": "stdout",
          "text": [
            "Welcome to the Simple ML Chatbot. Type 'exit' to end the conversation.\n",
            "You: hi\n",
            "Bot: I'm sorry, I don't understand that.\n",
            "You: what's your name?\n",
            "Bot: I'm sorry, I don't understand that.\n",
            "You: hi\n",
            "Bot: I'm sorry, I don't understand that.\n"
          ]
        }
      ],
      "source": [
        "from sklearn.tree import DecisionTreeClassifier\n",
        "from sklearn.feature_extraction.text import CountVectorizer\n",
        "from sklearn.pipeline import make_pipeline\n",
        "\n",
        "class SimpleMLChatbot:\n",
        "    def __init__(self):\n",
        "        # Define predefined prompts and corresponding responses\n",
        "        self.responses = {\n",
        "            \"hi\": \"Hello! How can I assist you today?\",\n",
        "            \"how are you?\": \"Fine\",\n",
        "            \"what's your name?\": \"My name is ROBO\",\n",
        "            \"exit\": \"Goodbye! Have a great day!\"\n",
        "        }\n",
        "\n",
        "        # Define training data\n",
        "        self.X_train = list(self.responses.keys())\n",
        "        self.y_train = list(self.responses.values())\n",
        "\n",
        "        # Initialize ML model\n",
        "        self.model = make_pipeline(\n",
        "            CountVectorizer(),\n",
        "            DecisionTreeClassifier()\n",
        "        )\n",
        "\n",
        "        # Train the model\n",
        "        self.model.fit(self.X_train, self.y_train)\n",
        "\n",
        "    def respond(self, user_input):\n",
        "        # Predict category of user input\n",
        "        predicted_category = self.model.predict([user_input])[0]\n",
        "\n",
        "        # Generate response based on predicted category\n",
        "        if predicted_category in self.responses:\n",
        "            return self.responses[predicted_category]\n",
        "        else:\n",
        "            return \"I'm sorry, I don't understand that.\"\n",
        "\n",
        "if __name__ == \"__main__\":\n",
        "    chatbot = SimpleMLChatbot()\n",
        "\n",
        "    print(\"Welcome to the Simple ML Chatbot. Type 'exit' to end the conversation.\")\n",
        "\n",
        "    while True:\n",
        "        user_input = input(\"You: \").lower()\n",
        "        if user_input == \"exit\":\n",
        "            print(chatbot.responses[\"exit\"])\n",
        "            break\n",
        "        else:\n",
        "            response = chatbot.respond(user_input)\n",
        "            print(\"Bot:\", response)\n"
      ]
    }
  ]
}